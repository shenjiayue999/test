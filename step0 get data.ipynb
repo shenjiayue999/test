{
 "cells": [
  {
   "cell_type": "code",
   "execution_count": 21,
   "id": "11356f6c",
   "metadata": {
    "ExecuteTime": {
     "end_time": "2022-10-09T08:08:54.639129Z",
     "start_time": "2022-10-09T08:08:53.546251Z"
    }
   },
   "outputs": [
    {
     "name": "stdout",
     "output_type": "stream",
     "text": [
      "login success!\n"
     ]
    },
    {
     "data": {
      "text/html": [
       "<div>\n",
       "<style scoped>\n",
       "    .dataframe tbody tr th:only-of-type {\n",
       "        vertical-align: middle;\n",
       "    }\n",
       "\n",
       "    .dataframe tbody tr th {\n",
       "        vertical-align: top;\n",
       "    }\n",
       "\n",
       "    .dataframe thead th {\n",
       "        text-align: right;\n",
       "    }\n",
       "</style>\n",
       "<table border=\"1\" class=\"dataframe\">\n",
       "  <thead>\n",
       "    <tr style=\"text-align: right;\">\n",
       "      <th></th>\n",
       "      <th>code</th>\n",
       "      <th>tradeStatus</th>\n",
       "      <th>code_name</th>\n",
       "    </tr>\n",
       "  </thead>\n",
       "  <tbody>\n",
       "    <tr>\n",
       "      <th>0</th>\n",
       "      <td>bj.430047</td>\n",
       "      <td>1</td>\n",
       "      <td></td>\n",
       "    </tr>\n",
       "    <tr>\n",
       "      <th>1</th>\n",
       "      <td>bj.430090</td>\n",
       "      <td>1</td>\n",
       "      <td></td>\n",
       "    </tr>\n",
       "    <tr>\n",
       "      <th>2</th>\n",
       "      <td>bj.430198</td>\n",
       "      <td>1</td>\n",
       "      <td></td>\n",
       "    </tr>\n",
       "    <tr>\n",
       "      <th>3</th>\n",
       "      <td>bj.430418</td>\n",
       "      <td>1</td>\n",
       "      <td></td>\n",
       "    </tr>\n",
       "    <tr>\n",
       "      <th>4</th>\n",
       "      <td>bj.430489</td>\n",
       "      <td>1</td>\n",
       "      <td></td>\n",
       "    </tr>\n",
       "  </tbody>\n",
       "</table>\n",
       "</div>"
      ],
      "text/plain": [
       "        code tradeStatus code_name\n",
       "0  bj.430047           1          \n",
       "1  bj.430090           1          \n",
       "2  bj.430198           1          \n",
       "3  bj.430418           1          \n",
       "4  bj.430489           1          "
      ]
     },
     "execution_count": 21,
     "metadata": {},
     "output_type": "execute_result"
    }
   ],
   "source": [
    "# 导入包，之前没用过baostock的先pip\n",
    "import baostock as bs\n",
    "# 数据处理包\n",
    "import pandas as pd\n",
    "import numpy as np\n",
    "# 时间包\n",
    "import datetime\n",
    "# 系统路径包\n",
    "import os\n",
    "# 不显示警告\n",
    "import warnings\n",
    "warnings.filterwarnings('ignore')\n",
    "# 连接baostock服务器\n",
    "lg = bs.login()\n",
    "# 获得2022-7-11当天所有股票名，测试一下是否连接上\n",
    "rs = bs.query_all_stock(day=\"2022-07-11\")\n",
    "all_stocks = []\n",
    "while (rs.error_code == '0') & rs.next():\n",
    "    all_stocks.append(rs.get_row_data())\n",
    "all_code = pd.DataFrame(all_stocks, columns=rs.fields)\n",
    "all_code.head(5)"
   ]
  },
  {
   "cell_type": "code",
   "execution_count": 18,
   "id": "54de01c5",
   "metadata": {
    "ExecuteTime": {
     "start_time": "2022-07-26T11:19:19.806Z"
    }
   },
   "outputs": [],
   "source": [
    "# 逐行对每个股票进行处理，获取所需要的数据，这里下载的是每个股票的日线级别数据\n",
    "for _,line in all_code.iterrows():\n",
    "    # 如果股票代码里有BJ,不考虑，跳掉\n",
    "    if line['code'][:2] == 'bj':\n",
    "        continue\n",
    "    # 如果股票代码里有SH.0,不考虑，跳掉\n",
    "    if line['code'][:4] =='sh.0':\n",
    "        continue\n",
    "    # 如果股票的交易状态是1（没退市）\n",
    "    if line['tradeStatus'] == '1' and not '指数' in line['code_name']:\n",
    "        # 获取特定数据的K线,这里下载了2022-1-1到2022-11-30的A股数据\n",
    "        rs = bs.query_history_k_data_plus(str(line['code']),\"date,code,open,high,low,close,preclose,volume,amount,turn,pctChg,peTTM,pbMRQ,psTTM,pcfNcfTTM,isST\",start_date='2022-01-01',end_date='2022-11-30',frequency=\"d\", adjustflag=\"2\")\n",
    "        data_list = []\n",
    "        while (rs.error_code == '0') & rs.next():\n",
    "            data_list.append(rs.get_row_data())\n",
    "        result = pd.DataFrame(data_list, columns=rs.fields)\n",
    "        # 存入文件于次级目录raw中，生成的是csv格式文件\n",
    "        try:\n",
    "            if not result.empty:\n",
    "                result.to_csv('D:\\\\data\\\\raw\\\\'+line['code']+'.csv',index=False)\n",
    "        # 如果没存成功，则不管，打印一下warning\n",
    "        except:\n",
    "            print(line['code'],'warning')"
   ]
  },
  {
   "cell_type": "code",
   "execution_count": null,
   "id": "fb5a03e6",
   "metadata": {},
   "outputs": [],
   "source": []
  }
 ],
 "metadata": {
  "kernelspec": {
   "display_name": "Python 3 (ipykernel)",
   "language": "python",
   "name": "python3"
  },
  "language_info": {
   "codemirror_mode": {
    "name": "ipython",
    "version": 3
   },
   "file_extension": ".py",
   "mimetype": "text/x-python",
   "name": "python",
   "nbconvert_exporter": "python",
   "pygments_lexer": "ipython3",
   "version": "3.9.13"
  },
  "varInspector": {
   "cols": {
    "lenName": 16,
    "lenType": 16,
    "lenVar": 40
   },
   "kernels_config": {
    "python": {
     "delete_cmd_postfix": "",
     "delete_cmd_prefix": "del ",
     "library": "var_list.py",
     "varRefreshCmd": "print(var_dic_list())"
    },
    "r": {
     "delete_cmd_postfix": ") ",
     "delete_cmd_prefix": "rm(",
     "library": "var_list.r",
     "varRefreshCmd": "cat(var_dic_list()) "
    }
   },
   "types_to_exclude": [
    "module",
    "function",
    "builtin_function_or_method",
    "instance",
    "_Feature"
   ],
   "window_display": false
  }
 },
 "nbformat": 4,
 "nbformat_minor": 5
}
